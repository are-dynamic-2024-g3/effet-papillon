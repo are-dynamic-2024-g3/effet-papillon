{
 "cells": [
  {
   "cell_type": "code",
   "execution_count": 41,
   "id": "2d0b0fd3",
   "metadata": {},
   "outputs": [],
   "source": [
    "import numpy as np\n",
    "import matplotlib.pyplot as plt\n"
   ]
  },
  {
   "cell_type": "code",
   "execution_count": 13,
   "id": "8d9490bc",
   "metadata": {},
   "outputs": [],
   "source": [
    "%matplotlib inline\n",
    "import numpy as np, matplotlib.pyplot as plt, glob, os\n",
    "import IPython.display as IPdisplay, matplotlib.font_manager as fm\n",
    "from scipy.integrate import odeint\n",
    "from mpl_toolkits.mplot3d.axes3d import Axes3D\n",
    "from PIL import Image\n",
    "# define the fonts to use for plots\n",
    "family = 'Myriad Pro'\n",
    "title_font = fm.FontProperties(family=family, style='normal', size=20, weight='normal', stretch='normal')\n",
    "save_folder = 'images/lorenz-animate'\n",
    "if not os.path.exists(save_folder):\n",
    "    os.makedirs(save_folder)\n",
    "# define the initial system state (aka x, y, z positions in space)\n",
    "initial_state = [0.1, 0, 0]\n",
    "\n",
    "# define the system parameters sigma, rho, and beta\n",
    "sigma = 10.\n",
    "rho   = 28.\n",
    "beta  = 8./3.\n",
    "\n",
    "# define the time points to solve for, evenly spaced between the start and end times\n",
    "start_time = 1\n",
    "end_time = 60\n",
    "interval = 100\n",
    "time_points = np.linspace(start_time, end_time, end_time * interval)\n",
    "# define the lorenz system\n",
    "def lorenz_system(current_state, t):\n",
    "    x, y, z = current_state\n",
    "    dx_dt = sigma * (y - x)\n",
    "    dy_dt = x * (rho - z) - y\n",
    "    dz_dt = x * y - beta * z\n",
    "    return [dx_dt, dy_dt, dz_dt]\n",
    "\n"
   ]
  },
  {
   "cell_type": "code",
   "execution_count": 14,
   "id": "dbb3468f",
   "metadata": {},
   "outputs": [],
   "source": [
    "# return a list in iteratively larger chunks\n",
    "def get_chunks(full_list, size):\n",
    "    size = max(1, size)\n",
    "    chunks = [full_list[0:i] for i in range(1, len(full_list) + 1, size)]\n",
    "    return chunks"
   ]
  },
  {
   "cell_type": "code",
   "execution_count": 15,
   "id": "da2fd6d8",
   "metadata": {},
   "outputs": [],
   "source": [
    "# get incrementally larger chunks of the time points, to reveal the attractor one frame at a time\n",
    "chunks = get_chunks(time_points, size=20)"
   ]
  },
  {
   "cell_type": "code",
   "execution_count": 16,
   "id": "8e0cac83",
   "metadata": {},
   "outputs": [],
   "source": [
    "# get the points to plot, one chunk of time steps at a time, by integrating the system of equations\n",
    "points = [odeint(lorenz_system, initial_state, chunk) for chunk in chunks]"
   ]
  },
  {
   "cell_type": "code",
   "execution_count": 19,
   "id": "929cd439",
   "metadata": {},
   "outputs": [],
   "source": [
    "# plot each set of points, one at a time, saving each plot\n",
    "# Avant la boucle for\n",
    "fig = plt.figure(figsize=(12, 9))\n",
    "ax = fig.add_subplot(111, projection='3d')\n",
    "\n",
    "for n, point in enumerate(points):\n",
    "    ax.clear()  # Effacer le contenu précédent de l'axe\n",
    "    ax.xaxis.set_pane_color((1,1,1,1))\n",
    "    ax.yaxis.set_pane_color((1,1,1,1))\n",
    "    ax.zaxis.set_pane_color((1,1,1,1))\n",
    "    x = point[:, 0]\n",
    "    y = point[:, 1]\n",
    "    z = point[:, 2]\n",
    "    ax.plot(x, y, z, color='g', alpha=0.7, linewidth=0.7)\n",
    "    ax.set_xlim((-30,30))\n",
    "    ax.set_ylim((-30,30))\n",
    "    ax.set_zlim((0,50))\n",
    "    ax.set_title('Lorenz system attractor', fontproperties=title_font)\n",
    "    \n",
    "    plt.savefig('{}/{:03d}.png'.format(save_folder, n), dpi=60, bbox_inches='tight', pad_inches=0.1)\n",
    "\n",
    "plt.close(fig)"
   ]
  },
  {
   "cell_type": "code",
   "execution_count": 33,
   "id": "3ebd0559",
   "metadata": {},
   "outputs": [],
   "source": [
    "# create a tuple of display durations, one for each frame\n",
    "first_last = 100 #show the first and last frames for 100 ms\n",
    "standard_duration = 5 #show all other frames for 5 ms\n",
    "durations = (first_last,) + (standard_duration,) * (len(images) - 2) + (first_last,)"
   ]
  },
  {
   "cell_type": "code",
   "execution_count": 34,
   "id": "46a3c3bb",
   "metadata": {},
   "outputs": [],
   "source": [
    "# load all the static images into a list\n",
    "images = [Image.open(image) for image in glob.glob('{}/*.png'.format(save_folder))]\n",
    "gif_filepath = 'images/animated-lorenz-attractor.gif'"
   ]
  },
  {
   "cell_type": "code",
   "execution_count": 37,
   "id": "d648917f",
   "metadata": {},
   "outputs": [],
   "source": [
    "# Sauvegarde du GIF animé avec les bonnes durées\n",
    "for i in range(len(images)):\n",
    "    images[i].info['duration'] = durations[i]\n",
    "\n",
    "# Sauvegarde du GIF animé avec les bonnes durées\n",
    "images[0].save(fp=gif_filepath, format='gif', save_all=True, append_images=images[1:])\n"
   ]
  },
  {
   "cell_type": "code",
   "execution_count": 38,
   "id": "7151ffbd",
   "metadata": {},
   "outputs": [
    {
     "data": {
      "text/plain": [
       "True"
      ]
     },
     "execution_count": 38,
     "metadata": {},
     "output_type": "execute_result"
    }
   ],
   "source": [
    "# verify that the number of frames in the gif equals the number of image files and durations\n",
    "Image.open(gif_filepath).n_frames == len(images) == len(durations)"
   ]
  },
  {
   "cell_type": "code",
   "execution_count": 40,
   "id": "b2c2f654",
   "metadata": {},
   "outputs": [
    {
     "data": {
      "text/html": [
       "<img src=\"images/animated-lorenz-attractor.gif\"/>"
      ],
      "text/plain": [
       "<IPython.core.display.Image object>"
      ]
     },
     "execution_count": 40,
     "metadata": {},
     "output_type": "execute_result"
    }
   ],
   "source": [
    "IPdisplay.Image(url=gif_filepath)\n"
   ]
  }
 ],
 "metadata": {
  "kernelspec": {
   "display_name": "py3-9-13",
   "language": "python",
   "name": "conda-env-py3-9-13-py"
  },
  "language_info": {
   "codemirror_mode": {
    "name": "ipython",
    "version": 3
   },
   "file_extension": ".py",
   "mimetype": "text/x-python",
   "name": "python",
   "nbconvert_exporter": "python",
   "pygments_lexer": "ipython3",
   "version": "3.9.13"
  }
 },
 "nbformat": 4,
 "nbformat_minor": 5
}
