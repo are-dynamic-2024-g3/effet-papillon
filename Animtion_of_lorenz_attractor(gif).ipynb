{
 "cells": [
  {
   "cell_type": "code",
   "execution_count": 4,
   "id": "8d9490bc",
   "metadata": {},
   "outputs": [
    {
     "data": {
      "text/html": [
       "<img src=\"images/animation/lorenz_animation.gif\"/>"
      ],
      "text/plain": [
       "<IPython.core.display.Image object>"
      ]
     },
     "execution_count": 4,
     "metadata": {},
     "output_type": "execute_result"
    }
   ],
   "source": [
    "import numpy as np\n",
    "import matplotlib.pyplot as plt\n",
    "import glob\n",
    "import os\n",
    "from scipy.integrate import odeint\n",
    "from mpl_toolkits.mplot3d import Axes3D\n",
    "from PIL import Image\n",
    "import IPython.display as IPdisplay\n",
    "\n",
    "dossier_de_sauvegarde = 'images/animation'\n",
    "if not os.path.exists(dossier_de_sauvegarde):\n",
    "    os.makedirs(dossier_de_sauvegarde)\n",
    "\n",
    "# Définir l'état initial du système (c'est-à-dire les positions x, y, z dans l'espace)\n",
    "etat_initial = [0.1,0.0,0.0]\n",
    "\n",
    "# Définir les points temporels à résoudre, uniformément espacés entre les heures de début et de fin\n",
    "tps_deb = 1\n",
    "tps_fin=60\n",
    "intervalle=100\n",
    "tps_points = np.linspace(tps_deb, tps_fin, tps_fin *intervalle)\n",
    "\n",
    "def lorenz(etat, t, sigma=10, rho=28, beta=2.667):\n",
    "    x, y, z = etat\n",
    "    deriv_x = sigma * (y - x)\n",
    "    deriv_y = x * (rho - z) - y\n",
    "    deriv_z = x * y - beta * z\n",
    "    return [deriv_x, deriv_y, deriv_z]\n",
    "\n",
    "def diviser_en_morceaux(liste, taille):\n",
    "    taille = max(1, taille)\n",
    "    morceaux = [liste[0:i] for i in range(1, len(liste) + 1, taille)]\n",
    "    return morceaux\n",
    "\n",
    "morceaux = diviser_en_morceaux(tps_points,taille=20)\n",
    "\n",
    "# Obtenir les points à tracer, un morceau de pas de temps à la fois, en intégrant le système d'équations\n",
    "points = [odeint(lorenz,etat_initial,morceau) for morceau in morceaux]\n",
    "\n",
    "# Tracer chaque ensemble de points, un à la fois, en enregistrant chaque tracé\n",
    "fig = plt.figure(figsize=(13,9))\n",
    "ax = fig.add_subplot(111, projection='3d')\n",
    "\n",
    "for n, point in enumerate(points):\n",
    "    ax.clear() # Effacer le contenu précédent de l'axe\n",
    "    x = point[:, 0]\n",
    "    y = point[:, 1]\n",
    "    z = point[:, 2]\n",
    "    ax.plot(x, y, z, color='m', alpha=0.9)\n",
    "    ax.set_xlim((-40,40))\n",
    "    ax.set_ylim((-40,40))\n",
    "    ax.set_zlim((0,50))\n",
    "    plt.xlabel(\"x axis\")\n",
    "    plt.ylabel(\"y axis\")\n",
    "    ax.set_title('Lorenz system attractor')\n",
    "    plt.savefig('{}/{:03d}.png'.format(dossier_de_sauvegarde, n), bbox_inches='tight')\n",
    "plt.close(fig)\n",
    "\n",
    "# Charger toutes les images statiques dans une liste\n",
    "images = [Image.open(image) for image in glob.glob('{}/*.png'.format(dossier_de_sauvegarde))]\n",
    "gif_chemin = 'images/animation/lorenz_animation.gif'\n",
    "\n",
    "# Créer un tuple de durées d'affichage, une pour chaque image\n",
    "deb_fin=100\n",
    "standard_durée = 5 \n",
    "durées=(deb_fin,) + (standard_durée,) * (len(images) - 2) + (deb_fin,)\n",
    "\n",
    "# Sauvegarde du GIF animé avec les durées correctes\n",
    "for i in range(len(images)):\n",
    "    images[i].info['duration'] = durées[i]\n",
    "images[0].save(fp=gif_chemin, format='gif', save_all=True, append_images=images[1:])\n",
    "# Vérifier que le nombre d'images dans le gif est égal au nombre de fichiers image et aux durées\n",
    "IPdisplay.Image(url=gif_chemin)"
   ]
  }
 ],
 "metadata": {
  "kernelspec": {
   "display_name": "py3-9-13",
   "language": "python",
   "name": "conda-env-py3-9-13-py"
  },
  "language_info": {
   "codemirror_mode": {
    "name": "ipython",
    "version": 3
   },
   "file_extension": ".py",
   "mimetype": "text/x-python",
   "name": "python",
   "nbconvert_exporter": "python",
   "pygments_lexer": "ipython3",
   "version": "3.9.13"
  }
 },
 "nbformat": 4,
 "nbformat_minor": 5
}
